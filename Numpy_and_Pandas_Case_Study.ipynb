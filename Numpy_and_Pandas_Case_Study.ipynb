{
  "nbformat": 4,
  "nbformat_minor": 0,
  "metadata": {
    "colab": {
      "provenance": []
    },
    "kernelspec": {
      "name": "python3",
      "display_name": "Python 3"
    },
    "language_info": {
      "name": "python"
    }
  },
  "cells": [
    {
      "cell_type": "markdown",
      "source": [
        "***Numpy*** **and** ***Pandas***"
      ],
      "metadata": {
        "id": "VUh0x1dWiYu7"
      }
    },
    {
      "cell_type": "markdown",
      "source": [
        "**Numpy**"
      ],
      "metadata": {
        "id": "BKt1GTcZMTLd"
      }
    },
    {
      "cell_type": "code",
      "source": [
        "import numpy as np\n",
        "import math"
      ],
      "metadata": {
        "id": "lblZC8pUmQFO"
      },
      "execution_count": 1,
      "outputs": []
    },
    {
      "cell_type": "code",
      "execution_count": 13,
      "metadata": {
        "colab": {
          "base_uri": "https://localhost:8080/"
        },
        "id": "V-FGYwm0iRnd",
        "outputId": "73b958d7-117f-4e44-faa5-5ae5b74d57ec"
      },
      "outputs": [
        {
          "output_type": "stream",
          "name": "stdout",
          "text": [
            "[27, 16, 44, 18, 38, 49, 19, 36, 50, 10, 28, 47, 21, 27, 21, 17, 34, 31, 40, 34]\n",
            "Mean =  30.35\n",
            "Standard Deviation =  11.598599053333983\n"
          ]
        }
      ],
      "source": [
        "# Q1\n",
        "a = []\n",
        "for i in range(20):\n",
        "  x = np.random.randint(10,51)\n",
        "  a.append(x)\n",
        "print(a)\n",
        "print(\"Mean = \" ,np.mean(a))\n",
        "print(\"Standard Deviation = \", np.std(a))"
      ]
    },
    {
      "cell_type": "code",
      "source": [
        "# Q2\n",
        "x = np.random.rand(6,5)\n",
        "print(x)\n",
        "a = np.reshape(x,(5,6))\n",
        "print(a)\n",
        "a.ndim\n"
      ],
      "metadata": {
        "colab": {
          "base_uri": "https://localhost:8080/"
        },
        "id": "1K9evmawmNaO",
        "outputId": "3baf410e-c773-4eea-e27c-bc06ccbf24ac"
      },
      "execution_count": null,
      "outputs": [
        {
          "output_type": "stream",
          "name": "stdout",
          "text": [
            "[[0.60188091 0.15780727 0.58092993 0.99351999 0.81642035]\n",
            " [0.61044678 0.83528419 0.54035387 0.6845372  0.58049177]\n",
            " [0.31256321 0.97215331 0.12543801 0.59273038 0.9127864 ]\n",
            " [0.47478186 0.2269403  0.0659024  0.21415479 0.76602051]\n",
            " [0.3069288  0.28805189 0.70114147 0.49106454 0.94489009]\n",
            " [0.74468891 0.34922431 0.53573274 0.58058899 0.52369375]]\n",
            "[[0.60188091 0.15780727 0.58092993 0.99351999 0.81642035 0.61044678]\n",
            " [0.83528419 0.54035387 0.6845372  0.58049177 0.31256321 0.97215331]\n",
            " [0.12543801 0.59273038 0.9127864  0.47478186 0.2269403  0.0659024 ]\n",
            " [0.21415479 0.76602051 0.3069288  0.28805189 0.70114147 0.49106454]\n",
            " [0.94489009 0.74468891 0.34922431 0.53573274 0.58058899 0.52369375]]\n"
          ]
        },
        {
          "output_type": "execute_result",
          "data": {
            "text/plain": [
              "2"
            ]
          },
          "metadata": {},
          "execution_count": 37
        }
      ]
    },
    {
      "cell_type": "code",
      "source": [
        "# Q3\n",
        "x = np.arange(1,26)\n",
        "print(x.reshape(5,5))\n",
        "\n",
        "a = x.reshape(5,5)\n",
        "a[1:4,:3]\n"
      ],
      "metadata": {
        "colab": {
          "base_uri": "https://localhost:8080/"
        },
        "id": "_JTaG7IimNYP",
        "outputId": "79d2f28f-0307-4a2c-ec4f-4b6ff72e3b6a"
      },
      "execution_count": null,
      "outputs": [
        {
          "output_type": "stream",
          "name": "stdout",
          "text": [
            "[[ 1  2  3  4  5]\n",
            " [ 6  7  8  9 10]\n",
            " [11 12 13 14 15]\n",
            " [16 17 18 19 20]\n",
            " [21 22 23 24 25]]\n"
          ]
        },
        {
          "output_type": "execute_result",
          "data": {
            "text/plain": [
              "array([[ 6,  7,  8],\n",
              "       [11, 12, 13],\n",
              "       [16, 17, 18]])"
            ]
          },
          "metadata": {},
          "execution_count": 49
        }
      ]
    },
    {
      "cell_type": "code",
      "source": [
        "# Q4\n",
        "a = []\n",
        "b = []\n",
        "\n",
        "for i in range(10):\n",
        "  x = np.random.randint(1,100)\n",
        "  y = np.random.randint(1,100)\n",
        "  a.append(x)\n",
        "  b.append(y)\n",
        "\n",
        "print(a)\n",
        "print(b)\n",
        "z = np.add(a,b)\n",
        "print(z)\n",
        "np.multiply(z,2)"
      ],
      "metadata": {
        "colab": {
          "base_uri": "https://localhost:8080/"
        },
        "id": "7360cHLZmNWD",
        "outputId": "2df2e5fc-3045-40af-8265-cce5c0fe6d5b"
      },
      "execution_count": null,
      "outputs": [
        {
          "output_type": "stream",
          "name": "stdout",
          "text": [
            "[90, 3, 27, 27, 49, 64, 4, 54, 70, 44]\n",
            "[1, 75, 33, 62, 35, 40, 63, 31, 32, 89]\n",
            "[ 91  78  60  89  84 104  67  85 102 133]\n"
          ]
        },
        {
          "output_type": "execute_result",
          "data": {
            "text/plain": [
              "array([182, 156, 120, 178, 168, 208, 134, 170, 204, 266])"
            ]
          },
          "metadata": {},
          "execution_count": 71
        }
      ]
    },
    {
      "cell_type": "code",
      "source": [
        "# Q5\n",
        "a = np.random.randint(1,11, size = (3,4))\n",
        "A = np.array(a)\n",
        "print(A)\n",
        "B = np.array([1,2,3,4])\n",
        "\n",
        "print(B)\n",
        "matrix_sum = A + B\n",
        "print(matrix_sum)"
      ],
      "metadata": {
        "colab": {
          "base_uri": "https://localhost:8080/"
        },
        "id": "TlQ0v7FxmNTr",
        "outputId": "568d6821-2388-4c11-9176-3341eec58eca"
      },
      "execution_count": null,
      "outputs": [
        {
          "output_type": "stream",
          "name": "stdout",
          "text": [
            "[[ 6  8  7 10]\n",
            " [ 3  8  1  1]\n",
            " [ 1 10  5  5]]\n",
            "[1 2 3 4]\n",
            "[[ 7 10 10 14]\n",
            " [ 4 10  4  5]\n",
            " [ 2 12  8  9]]\n"
          ]
        }
      ]
    },
    {
      "cell_type": "code",
      "source": [
        "# Q6\n",
        "a = []\n",
        "for i in range(9):\n",
        "  x = np.random.randint(1,100)\n",
        "  a.append(x)\n",
        "print(a)\n",
        "z = np.array(a)\n",
        "y = z.reshape(3,3)\n",
        "print(y)\n",
        "b = np.sum(y,axis=1).reshape(3,1)\n",
        "\n",
        "print(b)\n",
        "Max_sum_row = np.argmax(b)\n",
        "print(\"Row with the max sum is = \",Max_sum_row)\n",
        "Max_value_in_that_row = np.max(y[Max_sum_row])\n",
        "print(\"Max value in that row is = \",Max_value_in_that_row)\n"
      ],
      "metadata": {
        "colab": {
          "base_uri": "https://localhost:8080/"
        },
        "id": "ITEm2I65mNRf",
        "outputId": "a6b8d0a0-fc90-443b-d089-f64153d1857d"
      },
      "execution_count": null,
      "outputs": [
        {
          "output_type": "stream",
          "name": "stdout",
          "text": [
            "[20, 43, 11, 38, 9, 76, 53, 46, 27]\n",
            "[[20 43 11]\n",
            " [38  9 76]\n",
            " [53 46 27]]\n",
            "[[ 74]\n",
            " [123]\n",
            " [126]]\n",
            "Row with the max sum is =  2\n",
            "Max value in that row is =  53\n"
          ]
        }
      ]
    },
    {
      "cell_type": "code",
      "source": [
        "# Q7\n",
        "a = np.random.randint(100,size = (2,2))\n",
        "b = np.random.randint(100,size = (2,2))\n",
        "A = np.array(a)\n",
        "B = np.array(b)\n",
        "print(A)\n",
        "print(B)\n",
        "print(np.dot(A,B))"
      ],
      "metadata": {
        "colab": {
          "base_uri": "https://localhost:8080/"
        },
        "id": "l62dLSml3HfV",
        "outputId": "42e79368-767d-460e-ef5d-ebcfe1915bf4"
      },
      "execution_count": null,
      "outputs": [
        {
          "output_type": "stream",
          "name": "stdout",
          "text": [
            "[[68 34]\n",
            " [67 68]]\n",
            "[[75 20]\n",
            " [42 85]]\n",
            "[[6528 4250]\n",
            " [7881 7120]]\n"
          ]
        }
      ]
    },
    {
      "cell_type": "code",
      "source": [
        "# Q8\n",
        "a = np.random.randint(1,51, size = (6,6))\n",
        "A = np.array(a)\n",
        "print(A)\n",
        "filtered_arr = A[A > 25]\n",
        "print(\"Filtered value = \",filtered_arr)\n"
      ],
      "metadata": {
        "colab": {
          "base_uri": "https://localhost:8080/"
        },
        "id": "51zJVeYbmNOw",
        "outputId": "94d9dd81-c385-4d78-c87c-aa23a9356b21"
      },
      "execution_count": null,
      "outputs": [
        {
          "output_type": "stream",
          "name": "stdout",
          "text": [
            "[[21 38 23  1 46 47]\n",
            " [40 35 28 38 39 20]\n",
            " [47 17 12 29 23 19]\n",
            " [49  9 47  5 50 24]\n",
            " [ 7 35  8 14 26 18]\n",
            " [19 44 48 13  2 47]]\n",
            "Filtered value =  [38 46 47 40 35 28 38 39 47 29 49 47 50 35 26 44 48 47]\n"
          ]
        }
      ]
    },
    {
      "cell_type": "code",
      "source": [
        "# Q9\n",
        "x = np.random.rand(5,5)\n",
        "print(x)\n",
        "a = np.median(x,axis = 0)\n",
        "print(\"Median along Columns =\",a)\n",
        "b = np.median(x,axis = 1)\n",
        "print(\"Median along Rows =\",b)\n",
        "c = np.var(x,axis = 0)\n",
        "print(\"Variance along Columns =\",c)\n",
        "d = np.var(x,axis = 1)\n",
        "print(\"Variance along Rows =\",d)\n"
      ],
      "metadata": {
        "colab": {
          "base_uri": "https://localhost:8080/"
        },
        "id": "b47OR7ou5u7P",
        "outputId": "4e3e2d27-79c8-447e-df7f-0d3c84313964"
      },
      "execution_count": null,
      "outputs": [
        {
          "output_type": "stream",
          "name": "stdout",
          "text": [
            "[[0.97218827 0.70021628 0.16855412 0.34024736 0.38238347]\n",
            " [0.68029282 0.04417931 0.96547897 0.94622576 0.37484084]\n",
            " [0.90031091 0.18724601 0.9764975  0.65265767 0.76568918]\n",
            " [0.34811305 0.64087653 0.60853613 0.92258666 0.77581125]\n",
            " [0.6149299  0.59569577 0.85776354 0.31573608 0.2166831 ]]\n",
            "Median along Columns = [0.68029282 0.59569577 0.85776354 0.65265767 0.38238347]\n",
            "Median along Rows = [0.38238347 0.68029282 0.76568918 0.64087653 0.59569577]\n",
            "Variance along Columns = [0.0491221  0.07053232 0.09228781 0.07373734 0.05127641]\n",
            "Variance along Rows = [0.0822901  0.12390062 0.07719728 0.03652968 0.0525101 ]\n"
          ]
        }
      ]
    },
    {
      "cell_type": "code",
      "source": [
        "# Q 10\n",
        "a = np.random.randint(1,11,size = (3,3))\n",
        "A = np.array(a)\n",
        "print(A)\n",
        "S = np.subtract(A,2.1)\n",
        "print(\"Subtracted matrix =\\n\",S)\n",
        "Sq = np.square(S)\n",
        "print(\"Squared matrix =\\n\",Sq)\n",
        "Re = np.reciprocal(Sq)\n",
        "print(\"Reciprocal matrix =\\n\",Re)"
      ],
      "metadata": {
        "colab": {
          "base_uri": "https://localhost:8080/"
        },
        "id": "fMNxFTbu5u4y",
        "outputId": "501f3fac-95e7-42e4-9052-5e1d3285df74"
      },
      "execution_count": null,
      "outputs": [
        {
          "output_type": "stream",
          "name": "stdout",
          "text": [
            "[[9 9 1]\n",
            " [2 2 5]\n",
            " [2 6 8]]\n",
            "Subtracted matrix =\n",
            " [[ 6.9  6.9 -1.1]\n",
            " [-0.1 -0.1  2.9]\n",
            " [-0.1  3.9  5.9]]\n",
            "Squared matrix =\n",
            " [[4.761e+01 4.761e+01 1.210e+00]\n",
            " [1.000e-02 1.000e-02 8.410e+00]\n",
            " [1.000e-02 1.521e+01 3.481e+01]]\n",
            "Reciprocal matrix =\n",
            " [[2.10039908e-02 2.10039908e-02 8.26446281e-01]\n",
            " [1.00000000e+02 1.00000000e+02 1.18906064e-01]\n",
            " [1.00000000e+02 6.57462196e-02 2.87273772e-02]]\n"
          ]
        }
      ]
    },
    {
      "cell_type": "markdown",
      "source": [
        "**Pandas**"
      ],
      "metadata": {
        "id": "DSViWQJ8CKM5"
      }
    },
    {
      "cell_type": "code",
      "source": [
        "# Q1\n",
        "import pandas as pd\n",
        "import math\n",
        "df = pd.read_csv('/content/sample_data/auto-mpg.csv')\n",
        "print(df.head(11))\n",
        "print(\"Total Rows and columns = \",df.shape)\n",
        "print(df.describe())\n"
      ],
      "metadata": {
        "colab": {
          "base_uri": "https://localhost:8080/"
        },
        "id": "TpWahEsjCJV0",
        "outputId": "6f1a71c4-9027-4af1-cc9d-699f88875d17"
      },
      "execution_count": null,
      "outputs": [
        {
          "output_type": "stream",
          "name": "stdout",
          "text": [
            "     mpg  cylinders  displacement horsepower  weight  acceleration  \\\n",
            "0   18.0          8         307.0        130    3504          12.0   \n",
            "1   15.0          8         350.0        165    3693          11.5   \n",
            "2   18.0          8         318.0        150    3436          11.0   \n",
            "3   16.0          8         304.0        150    3433          12.0   \n",
            "4   17.0          8         302.0        140    3449          10.5   \n",
            "5   15.0          8         429.0        198    4341          10.0   \n",
            "6   14.0          8         454.0        220    4354           9.0   \n",
            "7   14.0          8         440.0        215    4312           8.5   \n",
            "8   14.0          8         455.0        225    4425          10.0   \n",
            "9   15.0          8         390.0        190    3850           8.5   \n",
            "10  15.0          8         383.0        170    3563          10.0   \n",
            "\n",
            "    model year  origin                   car name  \n",
            "0           70       1  chevrolet chevelle malibu  \n",
            "1           70       1          buick skylark 320  \n",
            "2           70       1         plymouth satellite  \n",
            "3           70       1              amc rebel sst  \n",
            "4           70       1                ford torino  \n",
            "5           70       1           ford galaxie 500  \n",
            "6           70       1           chevrolet impala  \n",
            "7           70       1          plymouth fury iii  \n",
            "8           70       1           pontiac catalina  \n",
            "9           70       1         amc ambassador dpl  \n",
            "10          70       1        dodge challenger se  \n",
            "Total Rows and columns =  (398, 9)\n",
            "              mpg   cylinders  displacement       weight  acceleration  \\\n",
            "count  398.000000  398.000000    398.000000   398.000000    398.000000   \n",
            "mean    23.514573    5.454774    193.425879  2970.424623     15.568090   \n",
            "std      7.815984    1.701004    104.269838   846.841774      2.757689   \n",
            "min      9.000000    3.000000     68.000000  1613.000000      8.000000   \n",
            "25%     17.500000    4.000000    104.250000  2223.750000     13.825000   \n",
            "50%     23.000000    4.000000    148.500000  2803.500000     15.500000   \n",
            "75%     29.000000    8.000000    262.000000  3608.000000     17.175000   \n",
            "max     46.600000    8.000000    455.000000  5140.000000     24.800000   \n",
            "\n",
            "       model year      origin  \n",
            "count  398.000000  398.000000  \n",
            "mean    76.010050    1.572864  \n",
            "std      3.697627    0.802055  \n",
            "min     70.000000    1.000000  \n",
            "25%     73.000000    1.000000  \n",
            "50%     76.000000    1.000000  \n",
            "75%     79.000000    2.000000  \n",
            "max     82.000000    3.000000  \n"
          ]
        }
      ]
    },
    {
      "cell_type": "code",
      "source": [
        "# Q2\n",
        "cars = df[(df[\"model year\"] == 75) & (df[\"weight\"] < 3000)]\n",
        "required_cars = cars[[\"car name\", \"weight\", \"mpg\"]]\n",
        "print(required_cars)"
      ],
      "metadata": {
        "colab": {
          "base_uri": "https://localhost:8080/"
        },
        "id": "8jC3ueKF5u2D",
        "outputId": "d001009d-f4a3-4541-8bf7-1534fc7a162d"
      },
      "execution_count": null,
      "outputs": [
        {
          "output_type": "stream",
          "name": "stdout",
          "text": [
            "              car name  weight   mpg\n",
            "167     toyota corolla    2171  29.0\n",
            "168         ford pinto    2639  23.0\n",
            "169        amc gremlin    2914  20.0\n",
            "170      pontiac astro    2592  23.0\n",
            "171      toyota corona    2702  24.0\n",
            "172  volkswagen dasher    2223  25.0\n",
            "173         datsun 710    2545  24.0\n",
            "174         ford pinto    2984  18.0\n",
            "175  volkswagen rabbit    1937  29.0\n",
            "177         audi 100ls    2694  23.0\n",
            "178        peugeot 504    2957  23.0\n",
            "179        volvo 244dl    2945  22.0\n",
            "180          saab 99le    2671  25.0\n",
            "181   honda civic cvcc    1795  33.0\n"
          ]
        }
      ]
    },
    {
      "cell_type": "code",
      "source": [
        "# Q3\n",
        "df.isna().sum()\n",
        "x = df[(df[\"horsepower\"] != \"?\")][\"horsepower\"].astype(int).median()\n",
        "y = df[\"horsepower\"].values\n",
        "y[y == \"?\"] = x\n",
        "df[\"horsepower\"] = y.astype(int)\n",
        "df[\"horsepower\"]\n"
      ],
      "metadata": {
        "colab": {
          "base_uri": "https://localhost:8080/",
          "height": 458
        },
        "id": "ep6tIb5OmNK1",
        "outputId": "30050a6f-10b6-4777-c075-d4b5d6103353"
      },
      "execution_count": null,
      "outputs": [
        {
          "output_type": "execute_result",
          "data": {
            "text/plain": [
              "0      130\n",
              "1      165\n",
              "2      150\n",
              "3      150\n",
              "4      140\n",
              "      ... \n",
              "393     86\n",
              "394     52\n",
              "395     84\n",
              "396     79\n",
              "397     82\n",
              "Name: horsepower, Length: 398, dtype: int64"
            ],
            "text/html": [
              "<div>\n",
              "<style scoped>\n",
              "    .dataframe tbody tr th:only-of-type {\n",
              "        vertical-align: middle;\n",
              "    }\n",
              "\n",
              "    .dataframe tbody tr th {\n",
              "        vertical-align: top;\n",
              "    }\n",
              "\n",
              "    .dataframe thead th {\n",
              "        text-align: right;\n",
              "    }\n",
              "</style>\n",
              "<table border=\"1\" class=\"dataframe\">\n",
              "  <thead>\n",
              "    <tr style=\"text-align: right;\">\n",
              "      <th></th>\n",
              "      <th>horsepower</th>\n",
              "    </tr>\n",
              "  </thead>\n",
              "  <tbody>\n",
              "    <tr>\n",
              "      <th>0</th>\n",
              "      <td>130</td>\n",
              "    </tr>\n",
              "    <tr>\n",
              "      <th>1</th>\n",
              "      <td>165</td>\n",
              "    </tr>\n",
              "    <tr>\n",
              "      <th>2</th>\n",
              "      <td>150</td>\n",
              "    </tr>\n",
              "    <tr>\n",
              "      <th>3</th>\n",
              "      <td>150</td>\n",
              "    </tr>\n",
              "    <tr>\n",
              "      <th>4</th>\n",
              "      <td>140</td>\n",
              "    </tr>\n",
              "    <tr>\n",
              "      <th>...</th>\n",
              "      <td>...</td>\n",
              "    </tr>\n",
              "    <tr>\n",
              "      <th>393</th>\n",
              "      <td>86</td>\n",
              "    </tr>\n",
              "    <tr>\n",
              "      <th>394</th>\n",
              "      <td>52</td>\n",
              "    </tr>\n",
              "    <tr>\n",
              "      <th>395</th>\n",
              "      <td>84</td>\n",
              "    </tr>\n",
              "    <tr>\n",
              "      <th>396</th>\n",
              "      <td>79</td>\n",
              "    </tr>\n",
              "    <tr>\n",
              "      <th>397</th>\n",
              "      <td>82</td>\n",
              "    </tr>\n",
              "  </tbody>\n",
              "</table>\n",
              "<p>398 rows × 1 columns</p>\n",
              "</div><br><label><b>dtype:</b> int64</label>"
            ]
          },
          "metadata": {},
          "execution_count": 264
        }
      ]
    },
    {
      "cell_type": "code",
      "source": [
        "# Q4\n",
        "df[\"power_to_weight_ratio\"] = df[\"horsepower\"] / df[\"weight\"]\n",
        "print(df[\"power_to_weight_ratio\"])"
      ],
      "metadata": {
        "colab": {
          "base_uri": "https://localhost:8080/"
        },
        "id": "En8SmxT2GxLD",
        "outputId": "2bb20aa7-1e22-4279-9991-1933475e0fd7"
      },
      "execution_count": null,
      "outputs": [
        {
          "output_type": "stream",
          "name": "stdout",
          "text": [
            "0      0.037100\n",
            "1      0.044679\n",
            "2      0.043655\n",
            "3      0.043694\n",
            "4      0.040591\n",
            "         ...   \n",
            "393    0.030824\n",
            "394    0.024413\n",
            "395    0.036601\n",
            "396    0.030095\n",
            "397    0.030147\n",
            "Name: power_to_weight_ratio, Length: 398, dtype: float64\n"
          ]
        }
      ]
    },
    {
      "cell_type": "code",
      "source": [
        "# Q5\n",
        "cars = df.groupby(\"origin\")\n",
        "cars[\"mpg\"].mean()"
      ],
      "metadata": {
        "colab": {
          "base_uri": "https://localhost:8080/",
          "height": 209
        },
        "id": "2Yje2P1lGxIu",
        "outputId": "3b4a9b52-74f7-49e3-dbca-9e80a1af6af6"
      },
      "execution_count": null,
      "outputs": [
        {
          "output_type": "execute_result",
          "data": {
            "text/plain": [
              "origin\n",
              "1    20.083534\n",
              "2    27.891429\n",
              "3    30.450633\n",
              "Name: mpg, dtype: float64"
            ],
            "text/html": [
              "<div>\n",
              "<style scoped>\n",
              "    .dataframe tbody tr th:only-of-type {\n",
              "        vertical-align: middle;\n",
              "    }\n",
              "\n",
              "    .dataframe tbody tr th {\n",
              "        vertical-align: top;\n",
              "    }\n",
              "\n",
              "    .dataframe thead th {\n",
              "        text-align: right;\n",
              "    }\n",
              "</style>\n",
              "<table border=\"1\" class=\"dataframe\">\n",
              "  <thead>\n",
              "    <tr style=\"text-align: right;\">\n",
              "      <th></th>\n",
              "      <th>mpg</th>\n",
              "    </tr>\n",
              "    <tr>\n",
              "      <th>origin</th>\n",
              "      <th></th>\n",
              "    </tr>\n",
              "  </thead>\n",
              "  <tbody>\n",
              "    <tr>\n",
              "      <th>1</th>\n",
              "      <td>20.083534</td>\n",
              "    </tr>\n",
              "    <tr>\n",
              "      <th>2</th>\n",
              "      <td>27.891429</td>\n",
              "    </tr>\n",
              "    <tr>\n",
              "      <th>3</th>\n",
              "      <td>30.450633</td>\n",
              "    </tr>\n",
              "  </tbody>\n",
              "</table>\n",
              "</div><br><label><b>dtype:</b> float64</label>"
            ]
          },
          "metadata": {},
          "execution_count": 267
        }
      ]
    },
    {
      "cell_type": "code",
      "source": [
        "# Q6\n",
        "sorted_df_mpg = df.sort_values(by = \"mpg\", ascending = False )\n",
        "sorted_10_cars = sorted_df_mpg.head(10)\n",
        "print(sorted_10_cars)"
      ],
      "metadata": {
        "colab": {
          "base_uri": "https://localhost:8080/"
        },
        "id": "4JreRhmZGxGc",
        "outputId": "cabc3578-5eb0-433f-99bd-71bbf5fc8091"
      },
      "execution_count": null,
      "outputs": [
        {
          "output_type": "stream",
          "name": "stdout",
          "text": [
            "      mpg  cylinders  displacement  horsepower  weight  acceleration  \\\n",
            "322  46.6          4          86.0          65    2110          17.9   \n",
            "329  44.6          4          91.0          67    1850          13.8   \n",
            "325  44.3          4          90.0          48    2085          21.7   \n",
            "394  44.0          4          97.0          52    2130          24.6   \n",
            "326  43.4          4          90.0          48    2335          23.7   \n",
            "244  43.1          4          90.0          48    1985          21.5   \n",
            "309  41.5          4          98.0          76    2144          14.7   \n",
            "330  40.9          4          85.0          93    1835          17.3   \n",
            "324  40.8          4          85.0          65    2110          19.2   \n",
            "247  39.4          4          85.0          70    2070          18.6   \n",
            "\n",
            "     model year  origin                         car name  performance_score  \\\n",
            "322          80       3                        mazda glc           0.395327   \n",
            "329          80       3              honda civic 1500 gl           0.332692   \n",
            "325          80       2             vw rabbit c (diesel)           0.461060   \n",
            "394          82       2                        vw pickup           0.508169   \n",
            "326          80       2               vw dasher (diesel)           0.440505   \n",
            "244          78       2  volkswagen rabbit custom diesel           0.466826   \n",
            "309          80       2                        vw rabbit           0.284538   \n",
            "330          80       2             renault lecar deluxe           0.385597   \n",
            "324          80       3                       datsun 210           0.371261   \n",
            "247          78       3                   datsun b210 gx           0.354029   \n",
            "\n",
            "     power_to_weight_ratio  \n",
            "322               0.030806  \n",
            "329               0.036216  \n",
            "325               0.023022  \n",
            "394               0.024413  \n",
            "326               0.020557  \n",
            "244               0.024181  \n",
            "309               0.035448  \n",
            "330               0.050681  \n",
            "324               0.030806  \n",
            "247               0.033816  \n"
          ]
        }
      ]
    },
    {
      "cell_type": "code",
      "source": [
        "# Q7\n",
        "def performance_score(row):\n",
        "    return row['mpg'] * row['acceleration'] / row['weight']\n",
        "\n",
        "df['performance_score'] = df.apply(performance_score, axis=1)\n",
        "\n",
        "print(\"New Column:\")\n",
        "print(df.head())"
      ],
      "metadata": {
        "colab": {
          "base_uri": "https://localhost:8080/"
        },
        "id": "NaaYMpB2NCub",
        "outputId": "e3083889-54b7-4eff-af2f-1997b604d5a7"
      },
      "execution_count": null,
      "outputs": [
        {
          "output_type": "stream",
          "name": "stdout",
          "text": [
            "New Column:\n",
            "    mpg  cylinders  displacement  horsepower  weight  acceleration  \\\n",
            "0  18.0          8         307.0         130    3504          12.0   \n",
            "1  15.0          8         350.0         165    3693          11.5   \n",
            "2  18.0          8         318.0         150    3436          11.0   \n",
            "3  16.0          8         304.0         150    3433          12.0   \n",
            "4  17.0          8         302.0         140    3449          10.5   \n",
            "\n",
            "   model year  origin                   car name  performance_score  \\\n",
            "0          70       1  chevrolet chevelle malibu           0.061644   \n",
            "1          70       1          buick skylark 320           0.046710   \n",
            "2          70       1         plymouth satellite           0.057625   \n",
            "3          70       1              amc rebel sst           0.055928   \n",
            "4          70       1                ford torino           0.051754   \n",
            "\n",
            "   power_to_weight_ratio  \n",
            "0               0.037100  \n",
            "1               0.044679  \n",
            "2               0.043655  \n",
            "3               0.043694  \n",
            "4               0.040591  \n"
          ]
        }
      ]
    },
    {
      "cell_type": "code",
      "source": [
        "# Q8\n",
        "New_df = df[[\"model year\", \"mpg\", \"weight\", \"horsepower\"]]\n",
        "print(New_df.describe())"
      ],
      "metadata": {
        "colab": {
          "base_uri": "https://localhost:8080/"
        },
        "id": "uZ-Wy_vGNCW1",
        "outputId": "f9875ef5-4e55-4de3-927b-51bb9325e77f"
      },
      "execution_count": null,
      "outputs": [
        {
          "output_type": "stream",
          "name": "stdout",
          "text": [
            "       model year         mpg       weight  horsepower\n",
            "count  398.000000  398.000000   398.000000  398.000000\n",
            "mean    76.010050   23.514573  2970.424623  104.296482\n",
            "std      3.697627    7.815984   846.841774   38.224809\n",
            "min     70.000000    9.000000  1613.000000   46.000000\n",
            "25%     73.000000   17.500000  2223.750000   76.000000\n",
            "50%     76.000000   23.000000  2803.500000   93.000000\n",
            "75%     79.000000   29.000000  3608.000000  125.000000\n",
            "max     82.000000   46.600000  5140.000000  230.000000\n"
          ]
        }
      ]
    },
    {
      "cell_type": "code",
      "source": [
        "# Q9\n",
        "high_mpg_cars = df[df[\"mpg\"] > 30][[\"mpg\", \"cylinders\", \"horsepower\", \"weight\"]]\n",
        "print(high_mpg_cars)\n",
        "high_mpg_cars.to_csv(\"high_mpg_cars.csv\", index = False)"
      ],
      "metadata": {
        "colab": {
          "base_uri": "https://localhost:8080/"
        },
        "id": "goyCKsTbNCQH",
        "outputId": "f1119172-5888-4dd7-d886-74f131672c4a"
      },
      "execution_count": null,
      "outputs": [
        {
          "output_type": "stream",
          "name": "stdout",
          "text": [
            "      mpg  cylinders horsepower  weight\n",
            "53   31.0          4         65    1773\n",
            "54   35.0          4         69    1613\n",
            "129  31.0          4         67    1950\n",
            "131  32.0          4         65    1836\n",
            "144  31.0          4         52    1649\n",
            "..    ...        ...        ...     ...\n",
            "390  32.0          4         96    2665\n",
            "391  36.0          4         84    2370\n",
            "394  44.0          4         52    2130\n",
            "395  32.0          4         84    2295\n",
            "397  31.0          4         82    2720\n",
            "\n",
            "[85 rows x 4 columns]\n"
          ]
        }
      ]
    },
    {
      "cell_type": "code",
      "source": [
        "# Q10\n",
        "Q1 = df[\"mpg\"].quantile(0.25)\n",
        "Q3 = df[\"mpg\"].quantile(0.75)\n",
        "IQR = Q3 - Q1\n",
        "lower_bound = Q1 - 1.5 * IQR\n",
        "upper_bound = Q3 + 1.5 * IQR\n",
        "outlier_df = df[(df[\"mpg\"] < lower_bound) | (df[\"mpg\"] > upper_bound)][[\"car name\", \"mpg\", \"model year\"]]\n",
        "x = print(outlier_df)\n"
      ],
      "metadata": {
        "colab": {
          "base_uri": "https://localhost:8080/"
        },
        "id": "eklk566_NCFK",
        "outputId": "99647c15-33fa-4c6b-a258-7de07f1cb3bb"
      },
      "execution_count": null,
      "outputs": [
        {
          "output_type": "stream",
          "name": "stdout",
          "text": [
            "      car name   mpg  model year\n",
            "322  mazda glc  46.6          80\n"
          ]
        }
      ]
    }
  ]
}