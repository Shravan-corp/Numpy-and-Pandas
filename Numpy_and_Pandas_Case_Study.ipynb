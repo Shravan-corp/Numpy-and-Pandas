{
  "nbformat": 4,
  "nbformat_minor": 0,
  "metadata": {
    "colab": {
      "provenance": []
    },
    "kernelspec": {
      "name": "python3",
      "display_name": "Python 3"
    },
    "language_info": {
      "name": "python"
    }
  },
  "cells": [
    {
      "cell_type": "markdown",
      "source": [
        "***Numpy*** **and** ***Pandas***"
      ],
      "metadata": {
        "id": "VUh0x1dWiYu7"
      }
    },
    {
      "cell_type": "markdown",
      "source": [
        "**Numpy**"
      ],
      "metadata": {
        "id": "BKt1GTcZMTLd"
      }
    },
    {
      "cell_type": "code",
      "source": [
        "import numpy as np\n",
        "import pandas as pd\n",
        "import math"
      ],
      "metadata": {
        "id": "lblZC8pUmQFO"
      },
      "execution_count": 1,
      "outputs": []
    },
    {
      "cell_type": "code",
      "execution_count": 2,
      "metadata": {
        "colab": {
          "base_uri": "https://localhost:8080/"
        },
        "id": "V-FGYwm0iRnd",
        "outputId": "a39d89bb-91d1-4909-9907-d2685d332a98"
      },
      "outputs": [
        {
          "output_type": "stream",
          "name": "stdout",
          "text": [
            "mean =  23.514572864321607\n",
            "median =  23.0\n",
            "standard deviation =  7.806159061274433\n",
            "No: of Cars with mpg > 25 =  158\n"
          ]
        }
      ],
      "source": [
        "# Q1\n",
        "df = pd.read_csv('auto-mpg.csv')\n",
        "mpg_arr = df[\"mpg\"].to_numpy()\n",
        "print(\"mean = \",np.mean(mpg_arr))\n",
        "print(\"median = \",np.median(mpg_arr))\n",
        "print(\"standard deviation = \",np.std(mpg_arr))\n",
        "\n",
        "x = np.sum(mpg_arr > 25)\n",
        "print(\"No: of Cars with mpg > 25 = \",x)\n"
      ]
    },
    {
      "cell_type": "code",
      "source": [
        "# Q2\n",
        "df = pd.read_csv('auto-mpg.csv')\n",
        "car_names = df['car name'].to_numpy()\n",
        "cylinders = df['cylinders'].to_numpy()\n",
        "x = cylinders > 6\n",
        "filtered_names = car_names[x]\n",
        "car_name = filtered_names.tolist()\n",
        "print(car_name)\n",
        "\n",
        "\n",
        "\n"
      ],
      "metadata": {
        "colab": {
          "base_uri": "https://localhost:8080/"
        },
        "id": "1K9evmawmNaO",
        "outputId": "92f09613-0c45-45bf-cb79-7df8466e1669"
      },
      "execution_count": 3,
      "outputs": [
        {
          "output_type": "stream",
          "name": "stdout",
          "text": [
            "['chevrolet chevelle malibu', 'buick skylark 320', 'plymouth satellite', 'amc rebel sst', 'ford torino', 'ford galaxie 500', 'chevrolet impala', 'plymouth fury iii', 'pontiac catalina', 'amc ambassador dpl', 'dodge challenger se', \"plymouth 'cuda 340\", 'chevrolet monte carlo', 'buick estate wagon (sw)', 'ford f250', 'chevy c20', 'dodge d200', 'hi 1200d', 'chevrolet impala', 'pontiac catalina brougham', 'ford galaxie 500', 'plymouth fury iii', 'dodge monaco (sw)', 'ford country squire (sw)', 'pontiac safari (sw)', 'chevrolet impala', 'pontiac catalina', 'plymouth fury iii', 'ford galaxie 500', 'amc ambassador sst', 'mercury marquis', 'buick lesabre custom', 'oldsmobile delta 88 royale', 'chrysler newport royal', 'amc matador (sw)', 'chevrolet chevelle concours (sw)', 'ford gran torino (sw)', 'plymouth satellite custom (sw)', 'buick century 350', 'amc matador', 'chevrolet malibu', 'ford gran torino', 'dodge coronet custom', 'mercury marquis brougham', 'chevrolet caprice classic', 'ford ltd', 'plymouth fury gran sedan', 'chrysler new yorker brougham', 'buick electra 225 custom', 'amc ambassador brougham', 'chevrolet impala', 'ford country', 'plymouth custom suburb', 'oldsmobile vista cruiser', 'chevrolet monte carlo s', 'pontiac grand prix', 'dodge dart custom', 'oldsmobile omega', 'ford gran torino', 'buick century luxus (sw)', 'dodge coronet custom (sw)', 'ford gran torino (sw)', 'amc matador (sw)', 'pontiac catalina', 'chevrolet bel air', 'plymouth grand fury', 'ford ltd', 'chevrolet monza 2+2', 'ford mustang ii', 'chevrolet chevelle malibu classic', 'dodge coronet brougham', 'amc matador', 'ford gran torino', 'plymouth volare premier v8', 'cadillac seville', 'chevy c10', 'ford f108', 'dodge d100', 'chevrolet caprice classic', 'oldsmobile cutlass supreme', 'dodge monaco brougham', 'mercury cougar brougham', 'pontiac grand prix lj', 'chevrolet monte carlo landau', 'chrysler cordoba', 'ford thunderbird', 'oldsmobile cutlass salon brougham', 'dodge diplomat', 'mercury monarch ghia', 'chevrolet monte carlo landau', 'ford futura', 'dodge magnum xe', 'chevrolet caprice classic', 'ford ltd landau', 'mercury grand marquis', 'dodge st. regis', 'buick estate wagon (sw)', 'ford country squire (sw)', 'chevrolet malibu classic (sw)', 'chrysler lebaron town @ country (sw)', 'cadillac eldorado', 'oldsmobile cutlass salon brougham', 'oldsmobile cutlass ls']\n"
          ]
        }
      ]
    },
    {
      "cell_type": "code",
      "source": [
        "# Q3\n",
        "df = pd.read_csv('auto-mpg.csv')\n",
        "weights = df['weight'].to_numpy()\n",
        "percentiles = np.percentile(weights, [25, 50, 75])\n",
        "print(\"25th percentile:\", percentiles[0])\n",
        "print(\"50th percentile:\", percentiles[1])\n",
        "print(\"75th percentile:\", percentiles[2])\n"
      ],
      "metadata": {
        "colab": {
          "base_uri": "https://localhost:8080/"
        },
        "id": "_JTaG7IimNYP",
        "outputId": "d8629999-f00a-4eb3-8532-b7f67f393310"
      },
      "execution_count": 4,
      "outputs": [
        {
          "output_type": "stream",
          "name": "stdout",
          "text": [
            "25th percentile: 2223.75\n",
            "50th percentile: 2803.5\n",
            "75th percentile: 3608.0\n"
          ]
        }
      ]
    },
    {
      "cell_type": "code",
      "source": [
        "# Q4\n",
        "df = pd.read_csv('auto-mpg.csv')\n",
        "acceleration = df['acceleration'].to_numpy()\n",
        "normalized_acceleration = (acceleration - np.min(acceleration)) / (np.max(acceleration) - np.min(acceleration))\n",
        "print(normalized_acceleration)"
      ],
      "metadata": {
        "colab": {
          "base_uri": "https://localhost:8080/"
        },
        "id": "7360cHLZmNWD",
        "outputId": "da14c0c6-aa24-4375-d52b-5fe22a18619e"
      },
      "execution_count": 5,
      "outputs": [
        {
          "output_type": "stream",
          "name": "stdout",
          "text": [
            "[0.23809524 0.20833333 0.17857143 0.23809524 0.14880952 0.11904762\n",
            " 0.05952381 0.0297619  0.11904762 0.0297619  0.11904762 0.\n",
            " 0.08928571 0.11904762 0.41666667 0.44642857 0.44642857 0.47619048\n",
            " 0.38690476 0.74404762 0.56547619 0.38690476 0.56547619 0.26785714\n",
            " 0.41666667 0.35714286 0.41666667 0.32738095 0.625      0.38690476\n",
            " 0.44642857 0.35714286 0.6547619  0.29761905 0.44642857 0.44642857\n",
            " 0.44642857 0.44642857 0.23809524 0.20833333 0.32738095 0.29761905\n",
            " 0.20833333 0.23809524 0.23809524 0.32738095 0.6547619  0.41666667\n",
            " 0.38690476 0.35714286 0.35714286 0.68452381 0.38690476 0.6547619\n",
            " 0.5952381  0.6547619  0.74404762 0.44642857 0.53571429 0.92261905\n",
            " 0.68452381 0.50595238 0.23809524 0.23809524 0.32738095 0.29761905\n",
            " 0.20833333 0.17857143 0.32738095 0.32738095 0.26785714 0.32738095\n",
            " 0.26785714 0.35714286 0.47619048 0.35714286 0.38690476 0.5952381\n",
            " 0.68452381 0.5952381  0.47619048 0.53571429 0.38690476 0.41666667\n",
            " 0.50595238 0.29761905 0.20833333 0.29761905 0.38690476 0.26785714\n",
            " 0.20833333 0.23809524 0.29761905 0.38690476 0.17857143 0.17857143\n",
            " 0.17857143 0.50595238 0.5952381  0.47619048 0.50595238 0.47619048\n",
            " 0.77380952 0.35714286 0.26785714 0.29761905 0.26785714 0.41666667\n",
            " 0.6547619  0.68452381 0.50595238 0.32738095 0.625      0.35714286\n",
            " 0.44642857 0.29761905 0.08928571 0.68452381 0.44642857 0.35714286\n",
            " 0.44642857 0.17857143 0.35714286 0.32738095 0.17857143 0.50595238\n",
            " 0.53571429 0.47619048 0.53571429 0.6547619  0.50595238 0.77380952\n",
            " 0.53571429 0.53571429 0.5952381  0.50595238 0.35714286 0.38690476\n",
            " 0.32738095 0.47619048 0.44642857 0.50595238 0.44642857 0.38690476\n",
            " 0.50595238 0.6547619  0.38690476 0.44642857 0.35714286 0.41666667\n",
            " 0.44642857 0.47619048 0.47619048 0.47619048 0.77380952 0.68452381\n",
            " 0.20833333 0.35714286 0.38690476 0.32738095 0.77380952 0.625\n",
            " 0.6547619  0.6547619  0.41666667 0.32738095 0.23809524 0.47619048\n",
            " 0.53571429 0.47619048 0.625      0.32738095 0.50595238 0.53571429\n",
            " 0.38690476 0.35714286 0.53571429 0.41666667 0.53571429 0.38690476\n",
            " 0.32738095 0.56547619 0.44642857 0.5297619  0.41071429 0.57738095\n",
            " 0.43452381 0.29761905 0.29761905 0.35119048 0.28571429 0.44047619\n",
            " 0.38690476 0.57142857 0.57142857 0.8452381  0.83928571 0.36904762\n",
            " 0.55952381 0.57738095 0.77380952 0.48809524 0.58333333 0.25\n",
            " 0.53571429 0.5        0.33333333 0.45833333 0.30952381 0.82738095\n",
            " 0.44642857 0.51785714 0.24404762 0.23809524 0.41666667 0.35714286\n",
            " 0.625      0.4047619  0.63095238 0.44642857 0.52380952 0.26785714\n",
            " 0.6547619  0.33928571 0.41071429 0.5        0.5297619  0.57738095\n",
            " 0.6547619  0.18452381 0.20238095 0.25       0.38690476 0.38690476\n",
            " 0.47619048 0.60714286 0.46428571 0.53571429 0.4702381  0.5\n",
            " 0.36309524 0.38690476 0.28571429 0.32738095 0.80357143 0.38095238\n",
            " 0.67857143 0.63095238 0.5        0.44642857 0.30952381 0.28571429\n",
            " 0.66666667 0.60714286 0.46428571 0.44047619 0.54761905 0.54761905\n",
            " 0.46428571 0.51785714 0.63690476 0.42261905 0.30952381 0.32142857\n",
            " 0.19047619 0.33928571 0.50595238 0.36904762 0.39880952 0.38690476\n",
            " 0.4047619  0.51785714 0.57142857 0.41071429 0.4702381  0.33333333\n",
            " 0.45833333 0.46428571 0.41071429 0.51190476 0.44047619 0.60714286\n",
            " 0.55357143 0.60714286 0.51190476 0.44047619 0.32142857 0.30952381\n",
            " 0.42857143 0.41071429 0.375      0.41666667 0.29761905 0.35714286\n",
            " 0.42857143 0.38095238 0.41666667 0.7202381  0.55952381 1.\n",
            " 0.8452381  0.30952381 0.41071429 0.66666667 0.39880952 0.47619048\n",
            " 0.19642857 0.29166667 0.30952381 0.39880952 0.64285714 0.44642857\n",
            " 0.5        0.50595238 0.60119048 0.7202381  0.63690476 0.46428571\n",
            " 0.44642857 0.56547619 0.41666667 0.42857143 0.58928571 0.38095238\n",
            " 0.66666667 0.81547619 0.93452381 0.70833333 0.82142857 0.3452381\n",
            " 0.55357143 0.5952381  0.43452381 0.20238095 0.26785714 0.42261905\n",
            " 0.375      0.53571429 0.45833333 0.5        0.38095238 0.27380952\n",
            " 0.29166667 0.5297619  0.5        0.48214286 0.58333333 0.67857143\n",
            " 0.55357143 0.47619048 0.41071429 0.48809524 0.75595238 0.36904762\n",
            " 0.46428571 0.38095238 0.52380952 0.4047619  0.61309524 0.73809524\n",
            " 0.69047619 0.27380952 0.3452381  0.46428571 0.6547619  0.54166667\n",
            " 0.51190476 0.69047619 0.63095238 0.5952381  0.48809524 0.47619048\n",
            " 0.5952381  0.5        0.74404762 0.43452381 0.60714286 0.57142857\n",
            " 0.39880952 0.55357143 0.38690476 0.38690476 0.5297619  0.41666667\n",
            " 0.45833333 0.48809524 0.5        0.53571429 0.38690476 0.39880952\n",
            " 0.35119048 0.29761905 0.55357143 0.45238095 0.98809524 0.21428571\n",
            " 0.63095238 0.67857143]\n"
          ]
        }
      ]
    },
    {
      "cell_type": "code",
      "source": [
        "# Q5\n",
        "df = pd.read_csv('auto-mpg.csv')\n",
        "df['horsepower'] = pd.to_numeric(df['horsepower'], errors='coerce')\n",
        "horsepower_arr = df['horsepower'].to_numpy()\n",
        "increased_horsepower = horsepower_arr * 1.1\n",
        "print(increased_horsepower)"
      ],
      "metadata": {
        "colab": {
          "base_uri": "https://localhost:8080/"
        },
        "id": "TlQ0v7FxmNTr",
        "outputId": "629545d5-0db7-407a-c883-f85b96e1403e"
      },
      "execution_count": 6,
      "outputs": [
        {
          "output_type": "stream",
          "name": "stdout",
          "text": [
            "[143.  181.5 165.  165.  154.  217.8 242.  236.5 247.5 209.  187.  176.\n",
            " 165.  247.5 104.5 104.5 106.7  93.5  96.8  50.6  95.7  99.  104.5 124.3\n",
            "  99.  236.5 220.  231.  212.3  96.8  99.  104.5   nan 110.  115.5 110.\n",
            "  96.8 110.  181.5 192.5 168.3 165.  198.  187.  192.5 121.   79.2 110.\n",
            "  96.8  94.6  99.   77.   83.6  71.5  75.9  66.   77.  104.5  88.   59.4\n",
            "  99.   94.6 181.5 192.5 165.  168.3 165.  228.8 170.5 176.  209.  106.7\n",
            " 165.  143.  154.  165.  123.2  83.6  95.7  75.9  94.6 101.2 106.7  88.\n",
            "  96.8 192.5 165.  159.5 150.7 165.  217.8 165.  173.8 165.  236.5 247.5\n",
            " 192.5 115.5 110.  110.   96.8 104.5  50.6 165.  183.7 187.  198.  110.\n",
            "  96.8  79.2 103.4  99.   93.5 117.7  99.  159.5 253.   53.9  82.5 100.1\n",
            " 123.2 165.  121.  134.2 198.  104.5   nan 110.  110.   73.7  88.   71.5\n",
            "  82.5 110.  121.  115.5 154.  165.  165.  154.  165.   91.3  73.7  85.8\n",
            "  57.2  67.1  82.5  82.5  82.5 106.7 102.3  73.7 104.5 115.5  79.2  79.2\n",
            " 187.  159.5 165.  162.8 121.  115.5 121.  104.5 121.  121.  141.9  82.5\n",
            "  91.3 110.   85.8 105.6  78.1 106.7 106.7  77.   99.  104.5  96.8 107.8\n",
            " 126.5  58.3  94.6  89.1 101.2  86.9  91.3 154.  165.  132.  167.2 110.\n",
            " 115.5  89.1  99.   57.2  66.   77.   58.3 110.   85.8 121.  104.5  78.1\n",
            "  77.   82.5  79.2 112.2 165.   96.8 118.8 132.  198.  159.5 143.  165.\n",
            "  74.8  88.   63.8 105.6  77.  159.5 121.  159.5 143.  121.  115.5 110.\n",
            " 107.8 198.  187.  209.  163.9  85.8  96.8  82.5  97.9  69.3  91.3  73.7\n",
            "  85.8 106.7 121.  121.   52.8  72.6  57.2  77.   66.  121.  154.  152.9\n",
            " 115.5 104.5  93.5  96.8 110.   99.  115.5  93.5 121.  132.  159.5 181.5\n",
            " 152.9 154.   74.8 104.5 106.7  82.5 104.5 115.5  93.5 106.7 113.3 137.5\n",
            " 126.5 146.3  78.1  74.8 126.5  93.5  96.8  99.  121.  143.  141.9 151.8\n",
            " 148.5 170.5 156.2 137.5 165.   78.1  71.5  88.   88.   84.7 137.5  78.1\n",
            "  99.   77.   77.   71.5  75.9  99.  126.5 126.5  99.   83.6  66.   77.\n",
            "  71.5  99.   96.8  99.   99.   85.8  99.   82.5 101.2  82.5  71.5 115.5\n",
            "  71.5  52.8  52.8  73.7  73.7  73.7   nan  73.7  68.2 145.2 110.   96.8\n",
            "   nan  79.2  92.4  92.4 101.2 121.   92.4  63.8  70.4  66.   73.7  71.5\n",
            "  68.2  74.8  69.3  71.5  71.5  81.4   nan  82.5  82.5 110.   81.4  88.\n",
            "  83.6 127.6 132.  121.  115.5  96.8  93.5  96.8  96.8  96.8  93.5  92.4\n",
            "  99.  101.2   nan  81.4  74.8  74.8  69.3  77.   96.8  82.5  77.   73.7\n",
            "  73.7  73.7 121.   93.5 101.2 123.2 105.6  92.4  99.   94.6  57.2  92.4\n",
            "  86.9  90.2]\n"
          ]
        }
      ]
    },
    {
      "cell_type": "code",
      "source": [
        "# Q6\n",
        "df = pd.read_csv('auto-mpg.csv')\n",
        "displacement = df['displacement'].to_numpy()\n",
        "origin = df['origin'].to_numpy()\n",
        "mask = origin == 2\n",
        "filtered_displacement = displacement[mask]\n",
        "average_displacement = np.mean(filtered_displacement)\n",
        "print(\"Average displacement of cars with origin 2:\", average_displacement)"
      ],
      "metadata": {
        "colab": {
          "base_uri": "https://localhost:8080/"
        },
        "id": "ITEm2I65mNRf",
        "outputId": "f2c00d34-6f26-4e3e-e098-ee5b3f433cd4"
      },
      "execution_count": 7,
      "outputs": [
        {
          "output_type": "stream",
          "name": "stdout",
          "text": [
            "Average displacement of cars with origin 2: 109.14285714285714\n"
          ]
        }
      ]
    },
    {
      "cell_type": "code",
      "source": [
        "# Q7\n",
        "df = pd.read_csv('auto-mpg.csv')\n",
        "df['horsepower'] = pd.to_numeric(df['horsepower'], errors='coerce')\n",
        "df['horsepower'] = df['horsepower'].fillna(df['horsepower'].median())\n",
        "data_array = df[['mpg', 'horsepower', 'weight']].to_numpy()\n",
        "vector = np.array([1, 0.5, -0.2])\n",
        "dot_product_result = np.dot(data_array, vector)\n",
        "print(\"Dot product result:\\n\", dot_product_result)"
      ],
      "metadata": {
        "colab": {
          "base_uri": "https://localhost:8080/"
        },
        "id": "l62dLSml3HfV",
        "outputId": "e8fc662d-e401-4ddf-9b29-25101e421206"
      },
      "execution_count": 11,
      "outputs": [
        {
          "output_type": "stream",
          "name": "stdout",
          "text": [
            "Dot product result:\n",
            " [-617.8  -641.1  -594.2  -595.6  -602.8  -754.2  -746.8  -740.9  -758.5\n",
            " -660.   -612.6  -627.8  -662.2  -490.7  -402.9  -497.1  -488.3  -453.9\n",
            " -355.   -318.   -465.9  -417.   -402.5  -364.3  -463.6  -805.5  -765.2\n",
            " -760.4  -840.9  -355.   -379.8  -373.1  -337.45 -457.8  -619.3  -598.8\n",
            " -597.4  -589.6  -745.3  -791.3  -740.3  -730.2  -889.   -851.2  -927.5\n",
            " -519.4  -423.6  -587.4  -565.8  -378.   -351.6  -349.8  -345.   -291.1\n",
            " -253.1  -309.8  -330.   -384.1  -360.2  -400.8  -416.6  -381.2  -759.3\n",
            " -775.5  -737.   -735.3  -642.4  -811.6  -809.9  -799.2  -776.4  -398.5\n",
            " -688.4  -741.6  -775.8  -726.4  -512.6  -442.2  -531.3  -377.3  -414.\n",
            " -383.6  -429.7  -364.8  -349.   -719.5  -645.4  -712.1  -725.9  -665.4\n",
            " -879.4  -804.8  -780.6  -758.4  -826.5  -865.7  -663.7  -553.7  -589.6\n",
            " -521.   -542.2  -510.3  -341.   -913.4  -885.7  -832.8  -797.8  -489.8\n",
            " -391.8  -423.2  -406.8  -361.8  -400.5  -419.9  -382.   -728.9  -724.6\n",
            " -319.9  -370.1  -450.9  -498.6  -589.8  -453.   -480.4  -631.8  -552.9\n",
            " -507.25 -511.2  -602.2  -325.5  -424.2  -302.7  -445.9  -690.2  -655.4\n",
            " -652.1  -742.2  -851.8  -802.4  -843.6  -762.4  -373.3  -333.1  -395.\n",
            " -272.8  -338.1  -359.5  -360.1  -385.7  -425.3  -405.7  -335.5  -586.3\n",
            " -621.3  -635.4  -580.6  -832.6  -800.5  -808.6  -843.4  -709.4  -710.9\n",
            " -676.   -691.5  -531.8  -569.2  -556.3  -367.7  -463.3  -512.8  -456.4\n",
            " -468.4  -384.1  -436.5  -530.3  -323.4  -578.2  -468.3  -524.4  -518.\n",
            " -451.7  -299.5  -421.8  -378.5  -443.4  -385.5  -371.9  -755.5  -747.\n",
            " -716.9  -752.5  -574.6  -596.1  -537.9  -549.5  -352.   -378.3  -323.4\n",
            " -299.5  -660.2  -657.8  -655.5  -573.6  -300.   -331.   -365.5  -450.5\n",
            " -559.   -700.   -591.   -513.   -687.5  -769.5  -725.5  -696.   -663.\n",
            " -343.5  -361.   -300.   -386.5  -320.5  -686.   -740.   -740.   -779.\n",
            " -631.5  -612.   -657.   -637.5  -738.   -732.5  -754.5  -776.5  -320.\n",
            " -479.5  -389.5  -481.   -348.2  -340.   -333.5  -368.5  -492.5  -443.5\n",
            " -467.5  -329.9  -290.9  -338.2  -339.6  -293.9  -598.1  -657.6  -624.3\n",
            " -635.3  -563.   -530.3  -474.9  -615.5  -577.6  -602.9  -550.7  -650.4\n",
            " -603.9  -593.3  -588.8  -553.4  -728.5  -367.   -437.   -384.3  -377.6\n",
            " -434.4  -473.3  -504.7  -408.6  -494.2  -548.5  -479.9  -599.3  -331.\n",
            " -363.5  -570.   -535.7  -511.7  -587.8  -596.4  -686.   -662.9  -705.5\n",
            " -680.3  -777.6  -724.3  -639.3  -694.5  -317.6  -328.4  -307.3  -466.6\n",
            " -642.1  -694.5  -575.3  -615.1  -370.8  -360.5  -339.7  -354.2  -460.6\n",
            " -432.7  -455.7  -432.7  -349.3  -325.5  -356.9  -334.1  -462.6  -503.6\n",
            " -531.3  -612.1  -364.3  -467.4  -439.6  -403.8  -383.3  -342.9  -479.6\n",
            " -348.7  -348.7  -399.6  -520.1  -586.5  -291.9  -279.35 -361.7  -308.2\n",
            " -483.3  -410.3  -421.   -510.65 -389.6  -428.8  -458.4  -452.2  -466.5\n",
            " -405.   -282.9  -304.   -286.9  -347.2  -325.5  -341.3  -328.9  -376.8\n",
            " -342.1  -413.6  -368.   -382.75 -370.8  -400.1  -440.1  -458.4  -577.9\n",
            " -563.3  -496.6  -501.8  -605.6  -665.9  -547.8  -632.9  -449.   -457.\n",
            " -401.   -441.5  -434.   -475.   -503.   -537.25 -323.   -334.   -329.\n",
            " -355.5  -354.   -352.   -367.5  -380.   -321.5  -327.5  -327.5  -509.\n",
            " -522.5  -445.   -489.   -453.   -396.   -518.   -488.   -356.   -385.\n",
            " -457.5  -472.  ]\n"
          ]
        }
      ]
    },
    {
      "cell_type": "code",
      "source": [
        "# Q8\n",
        "df = pd.read_csv('auto-mpg.csv')\n",
        "car_names = df['car name'].to_numpy()\n",
        "model_years = df['model year'].to_numpy()\n",
        "sorted_indices = np.argsort(model_years)[::-1]\n",
        "first_five_car_names = car_names[sorted_indices[:5]]\n",
        "print(\"First five car names sorted by model year (descending):\")\n",
        "for car_name in first_five_car_names:\n",
        "    print(car_name)\n"
      ],
      "metadata": {
        "colab": {
          "base_uri": "https://localhost:8080/"
        },
        "id": "51zJVeYbmNOw",
        "outputId": "27fd2b27-8c0d-4cc4-fb44-f16f85171446"
      },
      "execution_count": 12,
      "outputs": [
        {
          "output_type": "stream",
          "name": "stdout",
          "text": [
            "First five car names sorted by model year (descending):\n",
            "dodge aries se\n",
            "pontiac phoenix\n",
            "pontiac j2000 se hatchback\n",
            "chevrolet cavalier 2-door\n",
            "chevrolet cavalier wagon\n"
          ]
        }
      ]
    },
    {
      "cell_type": "code",
      "source": [
        "# Q9\n",
        "df = pd.read_csv('auto-mpg.csv')\n",
        "mpg = df['mpg'].to_numpy()\n",
        "weight = df['weight'].to_numpy()\n",
        "correlation_coefficient = np.corrcoef(mpg, weight)[0, 1]\n",
        "print(correlation_coefficient)"
      ],
      "metadata": {
        "colab": {
          "base_uri": "https://localhost:8080/"
        },
        "id": "b47OR7ou5u7P",
        "outputId": "655f5097-6ee5-47c8-ed9b-59887941c6f2"
      },
      "execution_count": 13,
      "outputs": [
        {
          "output_type": "stream",
          "name": "stdout",
          "text": [
            "-0.8317409332443352\n"
          ]
        }
      ]
    },
    {
      "cell_type": "code",
      "source": [
        "# Q 10\n",
        "df = pd.read_csv('auto-mpg.csv')\n",
        "mpg = df['mpg'].to_numpy()\n",
        "cylinders = df['cylinders'].to_numpy()\n",
        "unique_cylinders = np.unique(cylinders)\n",
        "for cylinder_value in unique_cylinders:\n",
        "    mask = cylinders == cylinder_value\n",
        "    mean_mpg = np.mean(mpg[mask])\n",
        "    print(f\"Mean MPG for cars with {cylinder_value} cylinders: {mean_mpg}\")"
      ],
      "metadata": {
        "colab": {
          "base_uri": "https://localhost:8080/"
        },
        "id": "fMNxFTbu5u4y",
        "outputId": "2e0e290a-c272-4df7-b33e-323c56498f33"
      },
      "execution_count": 15,
      "outputs": [
        {
          "output_type": "stream",
          "name": "stdout",
          "text": [
            "Mean MPG for cars with 3 cylinders: 20.55\n",
            "Mean MPG for cars with 4 cylinders: 29.28676470588235\n",
            "Mean MPG for cars with 5 cylinders: 27.366666666666664\n",
            "Mean MPG for cars with 6 cylinders: 19.985714285714284\n",
            "Mean MPG for cars with 8 cylinders: 14.963106796116506\n"
          ]
        }
      ]
    },
    {
      "cell_type": "markdown",
      "source": [
        "**Pandas**"
      ],
      "metadata": {
        "id": "DSViWQJ8CKM5"
      }
    },
    {
      "cell_type": "code",
      "source": [
        "# Q1\n",
        "df = pd.read_csv('auto-mpg.csv')\n",
        "print(df.head(11))\n",
        "print(\"Total Rows and columns = \",df.shape)\n",
        "print(df.describe())\n"
      ],
      "metadata": {
        "colab": {
          "base_uri": "https://localhost:8080/"
        },
        "id": "TpWahEsjCJV0",
        "outputId": "9ba46430-8767-414a-98c0-856a43d0da98"
      },
      "execution_count": 17,
      "outputs": [
        {
          "output_type": "stream",
          "name": "stdout",
          "text": [
            "     mpg  cylinders  displacement horsepower  weight  acceleration  \\\n",
            "0   18.0          8         307.0        130    3504          12.0   \n",
            "1   15.0          8         350.0        165    3693          11.5   \n",
            "2   18.0          8         318.0        150    3436          11.0   \n",
            "3   16.0          8         304.0        150    3433          12.0   \n",
            "4   17.0          8         302.0        140    3449          10.5   \n",
            "5   15.0          8         429.0        198    4341          10.0   \n",
            "6   14.0          8         454.0        220    4354           9.0   \n",
            "7   14.0          8         440.0        215    4312           8.5   \n",
            "8   14.0          8         455.0        225    4425          10.0   \n",
            "9   15.0          8         390.0        190    3850           8.5   \n",
            "10  15.0          8         383.0        170    3563          10.0   \n",
            "\n",
            "    model year  origin                   car name  \n",
            "0           70       1  chevrolet chevelle malibu  \n",
            "1           70       1          buick skylark 320  \n",
            "2           70       1         plymouth satellite  \n",
            "3           70       1              amc rebel sst  \n",
            "4           70       1                ford torino  \n",
            "5           70       1           ford galaxie 500  \n",
            "6           70       1           chevrolet impala  \n",
            "7           70       1          plymouth fury iii  \n",
            "8           70       1           pontiac catalina  \n",
            "9           70       1         amc ambassador dpl  \n",
            "10          70       1        dodge challenger se  \n",
            "Total Rows and columns =  (398, 9)\n",
            "              mpg   cylinders  displacement       weight  acceleration  \\\n",
            "count  398.000000  398.000000    398.000000   398.000000    398.000000   \n",
            "mean    23.514573    5.454774    193.425879  2970.424623     15.568090   \n",
            "std      7.815984    1.701004    104.269838   846.841774      2.757689   \n",
            "min      9.000000    3.000000     68.000000  1613.000000      8.000000   \n",
            "25%     17.500000    4.000000    104.250000  2223.750000     13.825000   \n",
            "50%     23.000000    4.000000    148.500000  2803.500000     15.500000   \n",
            "75%     29.000000    8.000000    262.000000  3608.000000     17.175000   \n",
            "max     46.600000    8.000000    455.000000  5140.000000     24.800000   \n",
            "\n",
            "       model year      origin  \n",
            "count  398.000000  398.000000  \n",
            "mean    76.010050    1.572864  \n",
            "std      3.697627    0.802055  \n",
            "min     70.000000    1.000000  \n",
            "25%     73.000000    1.000000  \n",
            "50%     76.000000    1.000000  \n",
            "75%     79.000000    2.000000  \n",
            "max     82.000000    3.000000  \n"
          ]
        }
      ]
    },
    {
      "cell_type": "code",
      "source": [
        "# Q2\n",
        "cars = df[(df[\"model year\"] == 75) & (df[\"weight\"] < 3000)]\n",
        "required_cars = cars[[\"car name\", \"weight\", \"mpg\"]]\n",
        "print(required_cars)"
      ],
      "metadata": {
        "colab": {
          "base_uri": "https://localhost:8080/"
        },
        "id": "8jC3ueKF5u2D",
        "outputId": "0c8e84e8-cbd4-4a11-f4d2-8ba3521ed0f7"
      },
      "execution_count": 18,
      "outputs": [
        {
          "output_type": "stream",
          "name": "stdout",
          "text": [
            "              car name  weight   mpg\n",
            "167     toyota corolla    2171  29.0\n",
            "168         ford pinto    2639  23.0\n",
            "169        amc gremlin    2914  20.0\n",
            "170      pontiac astro    2592  23.0\n",
            "171      toyota corona    2702  24.0\n",
            "172  volkswagen dasher    2223  25.0\n",
            "173         datsun 710    2545  24.0\n",
            "174         ford pinto    2984  18.0\n",
            "175  volkswagen rabbit    1937  29.0\n",
            "177         audi 100ls    2694  23.0\n",
            "178        peugeot 504    2957  23.0\n",
            "179        volvo 244dl    2945  22.0\n",
            "180          saab 99le    2671  25.0\n",
            "181   honda civic cvcc    1795  33.0\n"
          ]
        }
      ]
    },
    {
      "cell_type": "code",
      "source": [
        "# Q3\n",
        "df.isna().sum()\n",
        "x = df[(df[\"horsepower\"] != \"?\")][\"horsepower\"].astype(int).median()\n",
        "y = df[\"horsepower\"].values\n",
        "y[y == \"?\"] = x\n",
        "df[\"horsepower\"] = y.astype(int)\n",
        "df[\"horsepower\"]\n"
      ],
      "metadata": {
        "colab": {
          "base_uri": "https://localhost:8080/",
          "height": 458
        },
        "id": "ep6tIb5OmNK1",
        "outputId": "df6830a3-7c5b-474e-c6d4-d64cf288b188"
      },
      "execution_count": 19,
      "outputs": [
        {
          "output_type": "execute_result",
          "data": {
            "text/plain": [
              "0      130\n",
              "1      165\n",
              "2      150\n",
              "3      150\n",
              "4      140\n",
              "      ... \n",
              "393     86\n",
              "394     52\n",
              "395     84\n",
              "396     79\n",
              "397     82\n",
              "Name: horsepower, Length: 398, dtype: int64"
            ],
            "text/html": [
              "<div>\n",
              "<style scoped>\n",
              "    .dataframe tbody tr th:only-of-type {\n",
              "        vertical-align: middle;\n",
              "    }\n",
              "\n",
              "    .dataframe tbody tr th {\n",
              "        vertical-align: top;\n",
              "    }\n",
              "\n",
              "    .dataframe thead th {\n",
              "        text-align: right;\n",
              "    }\n",
              "</style>\n",
              "<table border=\"1\" class=\"dataframe\">\n",
              "  <thead>\n",
              "    <tr style=\"text-align: right;\">\n",
              "      <th></th>\n",
              "      <th>horsepower</th>\n",
              "    </tr>\n",
              "  </thead>\n",
              "  <tbody>\n",
              "    <tr>\n",
              "      <th>0</th>\n",
              "      <td>130</td>\n",
              "    </tr>\n",
              "    <tr>\n",
              "      <th>1</th>\n",
              "      <td>165</td>\n",
              "    </tr>\n",
              "    <tr>\n",
              "      <th>2</th>\n",
              "      <td>150</td>\n",
              "    </tr>\n",
              "    <tr>\n",
              "      <th>3</th>\n",
              "      <td>150</td>\n",
              "    </tr>\n",
              "    <tr>\n",
              "      <th>4</th>\n",
              "      <td>140</td>\n",
              "    </tr>\n",
              "    <tr>\n",
              "      <th>...</th>\n",
              "      <td>...</td>\n",
              "    </tr>\n",
              "    <tr>\n",
              "      <th>393</th>\n",
              "      <td>86</td>\n",
              "    </tr>\n",
              "    <tr>\n",
              "      <th>394</th>\n",
              "      <td>52</td>\n",
              "    </tr>\n",
              "    <tr>\n",
              "      <th>395</th>\n",
              "      <td>84</td>\n",
              "    </tr>\n",
              "    <tr>\n",
              "      <th>396</th>\n",
              "      <td>79</td>\n",
              "    </tr>\n",
              "    <tr>\n",
              "      <th>397</th>\n",
              "      <td>82</td>\n",
              "    </tr>\n",
              "  </tbody>\n",
              "</table>\n",
              "<p>398 rows × 1 columns</p>\n",
              "</div><br><label><b>dtype:</b> int64</label>"
            ]
          },
          "metadata": {},
          "execution_count": 19
        }
      ]
    },
    {
      "cell_type": "code",
      "source": [
        "# Q4\n",
        "df[\"power_to_weight_ratio\"] = df[\"horsepower\"] / df[\"weight\"]\n",
        "print(df[\"power_to_weight_ratio\"])"
      ],
      "metadata": {
        "colab": {
          "base_uri": "https://localhost:8080/"
        },
        "id": "En8SmxT2GxLD",
        "outputId": "19032b35-218a-499a-a6a2-9573d5624ba8"
      },
      "execution_count": 20,
      "outputs": [
        {
          "output_type": "stream",
          "name": "stdout",
          "text": [
            "0      0.037100\n",
            "1      0.044679\n",
            "2      0.043655\n",
            "3      0.043694\n",
            "4      0.040591\n",
            "         ...   \n",
            "393    0.030824\n",
            "394    0.024413\n",
            "395    0.036601\n",
            "396    0.030095\n",
            "397    0.030147\n",
            "Name: power_to_weight_ratio, Length: 398, dtype: float64\n"
          ]
        }
      ]
    },
    {
      "cell_type": "code",
      "source": [
        "# Q5\n",
        "cars = df.groupby(\"origin\")\n",
        "cars[\"mpg\"].mean()"
      ],
      "metadata": {
        "colab": {
          "base_uri": "https://localhost:8080/",
          "height": 209
        },
        "id": "2Yje2P1lGxIu",
        "outputId": "b497f48f-d67f-4519-dc49-0666000d6dcd"
      },
      "execution_count": 21,
      "outputs": [
        {
          "output_type": "execute_result",
          "data": {
            "text/plain": [
              "origin\n",
              "1    20.083534\n",
              "2    27.891429\n",
              "3    30.450633\n",
              "Name: mpg, dtype: float64"
            ],
            "text/html": [
              "<div>\n",
              "<style scoped>\n",
              "    .dataframe tbody tr th:only-of-type {\n",
              "        vertical-align: middle;\n",
              "    }\n",
              "\n",
              "    .dataframe tbody tr th {\n",
              "        vertical-align: top;\n",
              "    }\n",
              "\n",
              "    .dataframe thead th {\n",
              "        text-align: right;\n",
              "    }\n",
              "</style>\n",
              "<table border=\"1\" class=\"dataframe\">\n",
              "  <thead>\n",
              "    <tr style=\"text-align: right;\">\n",
              "      <th></th>\n",
              "      <th>mpg</th>\n",
              "    </tr>\n",
              "    <tr>\n",
              "      <th>origin</th>\n",
              "      <th></th>\n",
              "    </tr>\n",
              "  </thead>\n",
              "  <tbody>\n",
              "    <tr>\n",
              "      <th>1</th>\n",
              "      <td>20.083534</td>\n",
              "    </tr>\n",
              "    <tr>\n",
              "      <th>2</th>\n",
              "      <td>27.891429</td>\n",
              "    </tr>\n",
              "    <tr>\n",
              "      <th>3</th>\n",
              "      <td>30.450633</td>\n",
              "    </tr>\n",
              "  </tbody>\n",
              "</table>\n",
              "</div><br><label><b>dtype:</b> float64</label>"
            ]
          },
          "metadata": {},
          "execution_count": 21
        }
      ]
    },
    {
      "cell_type": "code",
      "source": [
        "# Q6\n",
        "sorted_df_mpg = df.sort_values(by = \"mpg\", ascending = False )\n",
        "sorted_10_cars = sorted_df_mpg.head(10)\n",
        "print(sorted_10_cars)"
      ],
      "metadata": {
        "colab": {
          "base_uri": "https://localhost:8080/"
        },
        "id": "4JreRhmZGxGc",
        "outputId": "b50946d7-9bd6-4e47-8008-fcdeb92c4053"
      },
      "execution_count": 22,
      "outputs": [
        {
          "output_type": "stream",
          "name": "stdout",
          "text": [
            "      mpg  cylinders  displacement  horsepower  weight  acceleration  \\\n",
            "322  46.6          4          86.0          65    2110          17.9   \n",
            "329  44.6          4          91.0          67    1850          13.8   \n",
            "325  44.3          4          90.0          48    2085          21.7   \n",
            "394  44.0          4          97.0          52    2130          24.6   \n",
            "326  43.4          4          90.0          48    2335          23.7   \n",
            "244  43.1          4          90.0          48    1985          21.5   \n",
            "309  41.5          4          98.0          76    2144          14.7   \n",
            "330  40.9          4          85.0          93    1835          17.3   \n",
            "324  40.8          4          85.0          65    2110          19.2   \n",
            "247  39.4          4          85.0          70    2070          18.6   \n",
            "\n",
            "     model year  origin                         car name  \\\n",
            "322          80       3                        mazda glc   \n",
            "329          80       3              honda civic 1500 gl   \n",
            "325          80       2             vw rabbit c (diesel)   \n",
            "394          82       2                        vw pickup   \n",
            "326          80       2               vw dasher (diesel)   \n",
            "244          78       2  volkswagen rabbit custom diesel   \n",
            "309          80       2                        vw rabbit   \n",
            "330          80       2             renault lecar deluxe   \n",
            "324          80       3                       datsun 210   \n",
            "247          78       3                   datsun b210 gx   \n",
            "\n",
            "     power_to_weight_ratio  \n",
            "322               0.030806  \n",
            "329               0.036216  \n",
            "325               0.023022  \n",
            "394               0.024413  \n",
            "326               0.020557  \n",
            "244               0.024181  \n",
            "309               0.035448  \n",
            "330               0.050681  \n",
            "324               0.030806  \n",
            "247               0.033816  \n"
          ]
        }
      ]
    },
    {
      "cell_type": "code",
      "source": [
        "# Q7\n",
        "def performance_score(row):\n",
        "    return row['mpg'] * row['acceleration'] / row['weight']\n",
        "\n",
        "df['performance_score'] = df.apply(performance_score, axis=1)\n",
        "\n",
        "print(\"New Column:\")\n",
        "print(df.head())"
      ],
      "metadata": {
        "colab": {
          "base_uri": "https://localhost:8080/"
        },
        "id": "NaaYMpB2NCub",
        "outputId": "2aa1dacc-9d36-403d-802e-a41b2414d667"
      },
      "execution_count": 23,
      "outputs": [
        {
          "output_type": "stream",
          "name": "stdout",
          "text": [
            "New Column:\n",
            "    mpg  cylinders  displacement  horsepower  weight  acceleration  \\\n",
            "0  18.0          8         307.0         130    3504          12.0   \n",
            "1  15.0          8         350.0         165    3693          11.5   \n",
            "2  18.0          8         318.0         150    3436          11.0   \n",
            "3  16.0          8         304.0         150    3433          12.0   \n",
            "4  17.0          8         302.0         140    3449          10.5   \n",
            "\n",
            "   model year  origin                   car name  power_to_weight_ratio  \\\n",
            "0          70       1  chevrolet chevelle malibu               0.037100   \n",
            "1          70       1          buick skylark 320               0.044679   \n",
            "2          70       1         plymouth satellite               0.043655   \n",
            "3          70       1              amc rebel sst               0.043694   \n",
            "4          70       1                ford torino               0.040591   \n",
            "\n",
            "   performance_score  \n",
            "0           0.061644  \n",
            "1           0.046710  \n",
            "2           0.057625  \n",
            "3           0.055928  \n",
            "4           0.051754  \n"
          ]
        }
      ]
    },
    {
      "cell_type": "code",
      "source": [
        "# Q8\n",
        "New_df = df[[\"model year\", \"mpg\", \"weight\", \"horsepower\"]]\n",
        "print(New_df.describe())"
      ],
      "metadata": {
        "colab": {
          "base_uri": "https://localhost:8080/"
        },
        "id": "uZ-Wy_vGNCW1",
        "outputId": "d5a1dc30-8200-4f99-acf1-7dd0b3db0706"
      },
      "execution_count": 24,
      "outputs": [
        {
          "output_type": "stream",
          "name": "stdout",
          "text": [
            "       model year         mpg       weight  horsepower\n",
            "count  398.000000  398.000000   398.000000  398.000000\n",
            "mean    76.010050   23.514573  2970.424623  104.296482\n",
            "std      3.697627    7.815984   846.841774   38.224809\n",
            "min     70.000000    9.000000  1613.000000   46.000000\n",
            "25%     73.000000   17.500000  2223.750000   76.000000\n",
            "50%     76.000000   23.000000  2803.500000   93.000000\n",
            "75%     79.000000   29.000000  3608.000000  125.000000\n",
            "max     82.000000   46.600000  5140.000000  230.000000\n"
          ]
        }
      ]
    },
    {
      "cell_type": "code",
      "source": [
        "# Q9\n",
        "high_mpg_cars = df[df[\"mpg\"] > 30][[\"mpg\", \"cylinders\", \"horsepower\", \"weight\"]]\n",
        "print(high_mpg_cars)\n",
        "high_mpg_cars.to_csv(\"high_mpg_cars.csv\", index = False)"
      ],
      "metadata": {
        "colab": {
          "base_uri": "https://localhost:8080/"
        },
        "id": "goyCKsTbNCQH",
        "outputId": "9d8adcb5-bb78-4792-8343-bf7ec57069c9"
      },
      "execution_count": 25,
      "outputs": [
        {
          "output_type": "stream",
          "name": "stdout",
          "text": [
            "      mpg  cylinders  horsepower  weight\n",
            "53   31.0          4          65    1773\n",
            "54   35.0          4          69    1613\n",
            "129  31.0          4          67    1950\n",
            "131  32.0          4          65    1836\n",
            "144  31.0          4          52    1649\n",
            "..    ...        ...         ...     ...\n",
            "390  32.0          4          96    2665\n",
            "391  36.0          4          84    2370\n",
            "394  44.0          4          52    2130\n",
            "395  32.0          4          84    2295\n",
            "397  31.0          4          82    2720\n",
            "\n",
            "[85 rows x 4 columns]\n"
          ]
        }
      ]
    },
    {
      "cell_type": "code",
      "source": [
        "# Q10\n",
        "Q1 = df[\"mpg\"].quantile(0.25)\n",
        "Q3 = df[\"mpg\"].quantile(0.75)\n",
        "IQR = Q3 - Q1\n",
        "lower_bound = Q1 - 1.5 * IQR\n",
        "upper_bound = Q3 + 1.5 * IQR\n",
        "outlier_df = df[(df[\"mpg\"] < lower_bound) | (df[\"mpg\"] > upper_bound)][[\"car name\", \"mpg\", \"model year\"]]\n",
        "x = print(outlier_df)\n"
      ],
      "metadata": {
        "colab": {
          "base_uri": "https://localhost:8080/"
        },
        "id": "eklk566_NCFK",
        "outputId": "8d860d5e-5ca0-40b3-e33c-ce988e260a76"
      },
      "execution_count": 26,
      "outputs": [
        {
          "output_type": "stream",
          "name": "stdout",
          "text": [
            "      car name   mpg  model year\n",
            "322  mazda glc  46.6          80\n"
          ]
        }
      ]
    }
  ]
}